{
 "cells": [
  {
   "cell_type": "markdown",
   "id": "passing-paradise",
   "metadata": {},
   "source": [
    "# Polynomial Regression on Boston Housing Data"
   ]
  },
  {
   "cell_type": "markdown",
   "id": "vital-blackberry",
   "metadata": {},
   "source": [
    "The Boston Housing Dataset is a derived from information collected by the U.S. Census Service concerning housing in the area of Boston, MA. The following describes the dataset columns:\n",
    "\n",
    "- LSTAT - % lower status of the population\n",
    "- MEDV - Median value of owner-occupied homes in $1000's"
   ]
  },
  {
   "cell_type": "code",
   "execution_count": 1,
   "id": "technical-scholar",
   "metadata": {},
   "outputs": [],
   "source": [
    "import numpy as np\n",
    "import pandas as pd\n",
    "from sklearn.model_selection import train_test_split\n",
    "from sklearn.metrics import r2_score\n",
    "from sklearn.linear_model import LinearRegression\n",
    "from sklearn.preprocessing import PolynomialFeatures\n",
    "import matplotlib.pyplot as plt\n",
    "%matplotlib inline"
   ]
  },
  {
   "cell_type": "code",
   "execution_count": 2,
   "id": "indian-princeton",
   "metadata": {},
   "outputs": [
    {
     "data": {
      "text/plain": [
       "dict_keys(['data', 'target', 'feature_names', 'DESCR', 'filename'])"
      ]
     },
     "execution_count": 2,
     "metadata": {},
     "output_type": "execute_result"
    }
   ],
   "source": [
    "from sklearn.datasets import load_boston\n",
    "boston_dataset = load_boston()\n",
    "boston_dataset.keys()"
   ]
  },
  {
   "cell_type": "code",
   "execution_count": 3,
   "id": "portuguese-sister",
   "metadata": {},
   "outputs": [],
   "source": [
    "boston = pd.DataFrame(boston_dataset.data, columns=boston_dataset.feature_names)\n",
    "boston['MEDV'] = boston_dataset.target"
   ]
  },
  {
   "cell_type": "code",
   "execution_count": 4,
   "id": "divided-business",
   "metadata": {},
   "outputs": [
    {
     "data": {
      "text/plain": [
       "CRIM       0\n",
       "ZN         0\n",
       "INDUS      0\n",
       "CHAS       0\n",
       "NOX        0\n",
       "RM         0\n",
       "AGE        0\n",
       "DIS        0\n",
       "RAD        0\n",
       "TAX        0\n",
       "PTRATIO    0\n",
       "B          0\n",
       "LSTAT      0\n",
       "MEDV       0\n",
       "dtype: int64"
      ]
     },
     "execution_count": 4,
     "metadata": {},
     "output_type": "execute_result"
    }
   ],
   "source": [
    "# check for missing values in all the columns\n",
    "boston.isnull().sum()"
   ]
  },
  {
   "cell_type": "code",
   "execution_count": 5,
   "id": "consolidated-brother",
   "metadata": {},
   "outputs": [
    {
     "data": {
      "text/plain": [
       "Index(['CRIM', 'ZN', 'INDUS', 'CHAS', 'NOX', 'RM', 'AGE', 'DIS', 'RAD', 'TAX',\n",
       "       'PTRATIO', 'B', 'LSTAT', 'MEDV'],\n",
       "      dtype='object')"
      ]
     },
     "execution_count": 5,
     "metadata": {},
     "output_type": "execute_result"
    }
   ],
   "source": [
    "boston.columns"
   ]
  },
  {
   "cell_type": "code",
   "execution_count": 10,
   "id": "unique-instruction",
   "metadata": {},
   "outputs": [
    {
     "data": {
      "text/plain": [
       "<matplotlib.collections.PathCollection at 0x1a313492250>"
      ]
     },
     "execution_count": 10,
     "metadata": {},
     "output_type": "execute_result"
    },
    {
     "data": {
      "image/png": "[encoded data removed]",
      "text/plain": [
       "<Figure size 432x288 with 1 Axes>"
      ]
     },
     "metadata": {
      "needs_background": "light"
     },
     "output_type": "display_data"
    }
   ],
   "source": [
    "plt.scatter(X,y)"
   ]
  },
  {
   "cell_type": "code",
   "execution_count": 9,
   "id": "needed-keyboard",
   "metadata": {},
   "outputs": [],
   "source": [
    "#declare variables\n",
    "X = boston['LSTAT'].values.reshape(-1,1)\n",
    "y = boston['MEDV'].values.reshape(-1,1)\n",
    "\n",
    "X_train, X_test, y_train, y_test = train_test_split(X, y, test_size=0.2, random_state=1)"
   ]
  },
  {
   "cell_type": "code",
   "execution_count": null,
   "id": "italic-portable",
   "metadata": {},
   "outputs": [],
   "source": []
  },
  {
   "cell_type": "markdown",
   "id": "opponent-software",
   "metadata": {},
   "source": [
    "The degree chosen will be two. According to the plot, it appears to be half of a parabola."
   ]
  },
  {
   "cell_type": "code",
   "execution_count": 51,
   "id": "bright-presence",
   "metadata": {},
   "outputs": [],
   "source": [
    "# Fitting by 2nd degree\n",
    "model = PolynomialFeatures(degree=2)\n",
    "X_train_poly = model.fit_transform(X_train)\n",
    "X_test_poly = model.fit_transform(X_test)\n",
    "\n",
    "# Fit and predict the obtained polynomial model into linear regression.\n",
    "linreg = LinearRegression()\n",
    "polyreg_model = linreg.fit(X_train_poly,y_train)\n",
    "y_pred = polyreg_model.predict(X_test_poly)"
   ]
  },
  {
   "cell_type": "code",
   "execution_count": 52,
   "id": "religious-street",
   "metadata": {},
   "outputs": [
    {
     "name": "stdout",
     "output_type": "stream",
     "text": [
      "r2 0.642198223348954\n"
     ]
    }
   ],
   "source": [
    "#r-squared\n",
    "print('r2',r2_score(y_test, y_pred))"
   ]
  },
  {
   "cell_type": "code",
   "execution_count": 53,
   "id": "virgin-finance",
   "metadata": {},
   "outputs": [
    {
     "data": {
      "text/plain": [
       "<matplotlib.collections.PathCollection at 0x1a315849b20>"
      ]
     },
     "execution_count": 53,
     "metadata": {},
     "output_type": "execute_result"
    },
    {
     "data": {
      "image/png": "[encoded data removed]",
      "text/plain": [
       "<Figure size 432x288 with 1 Axes>"
      ]
     },
     "metadata": {
      "needs_background": "light"
     },
     "output_type": "display_data"
    }
   ],
   "source": [
    "# plot the polynomial regression\n",
    "plt.scatter(X_train,y_train)\n",
    "plt.scatter(X_test, y_pred, color= 'red')"
   ]
  },
  {
   "cell_type": "code",
   "execution_count": 54,
   "id": "greek-atlanta",
   "metadata": {},
   "outputs": [
    {
     "data": {
      "text/plain": [
       "(array([13., 17., 19., 26., 11.,  6.,  1.,  3.,  4.,  2.]),\n",
       " array([-9.65206477, -6.87503481, -4.09800484, -1.32097488,  1.45605508,\n",
       "         4.23308504,  7.01011501,  9.78714497, 12.56417493, 15.34120489,\n",
       "        18.11823485]),\n",
       " <BarContainer object of 10 artists>)"
      ]
     },
     "execution_count": 54,
     "metadata": {},
     "output_type": "execute_result"
    },
    {
     "data": {
      "image/png": "[encoded data removed]",
      "text/plain": [
       "<Figure size 720x360 with 2 Axes>"
      ]
     },
     "metadata": {
      "needs_background": "light"
     },
     "output_type": "display_data"
    }
   ],
   "source": [
    "#residuals analysis\n",
    "residuals = y_test - y_pred\n",
    "fig, (ax1,ax2) = plt.subplots(1,2, figsize=(10,5))\n",
    "ax1.scatter(y_pred, residuals)\n",
    "ax2.hist(residuals)"
   ]
  },
  {
   "cell_type": "markdown",
   "id": "subject-character",
   "metadata": {},
   "source": [
    "With degree of 2, the residuals doesn't appear to be normal. "
   ]
  },
  {
   "cell_type": "code",
   "execution_count": null,
   "id": "concrete-destiny",
   "metadata": {},
   "outputs": [],
   "source": []
  },
  {
   "cell_type": "code",
   "execution_count": 68,
   "id": "peripheral-genealogy",
   "metadata": {},
   "outputs": [],
   "source": [
    "# Fitting by 4th degree\n",
    "model = PolynomialFeatures(degree=4)\n",
    "X_train_poly = model.fit_transform(X_train)\n",
    "X_test_poly = model.fit_transform(X_test)\n",
    "\n",
    "# Fit and predict the obtained polynomial model into linear regression.\n",
    "linreg = LinearRegression()\n",
    "polyreg_model = linreg.fit(X_train_poly,y_train)\n",
    "y_pred = polyreg_model.predict(X_test_poly)"
   ]
  },
  {
   "cell_type": "code",
   "execution_count": 69,
   "id": "intimate-phenomenon",
   "metadata": {},
   "outputs": [
    {
     "name": "stdout",
     "output_type": "stream",
     "text": [
      "r2 0.6904016242902854\n"
     ]
    }
   ],
   "source": [
    "#r-squared\n",
    "print('r2',r2_score(y_test, y_pred))"
   ]
  },
  {
   "cell_type": "code",
   "execution_count": 70,
   "id": "injured-visibility",
   "metadata": {},
   "outputs": [
    {
     "data": {
      "text/plain": [
       "<matplotlib.collections.PathCollection at 0x1a316fc2550>"
      ]
     },
     "execution_count": 70,
     "metadata": {},
     "output_type": "execute_result"
    },
    {
     "data": {
      "image/png": "[encoded data removed]",
      "text/plain": [
       "<Figure size 432x288 with 1 Axes>"
      ]
     },
     "metadata": {
      "needs_background": "light"
     },
     "output_type": "display_data"
    }
   ],
   "source": [
    "# plot the polynomial regression\n",
    "plt.scatter(X_train,y_train)\n",
    "plt.scatter(X_test, y_pred, color= 'red')"
   ]
  },
  {
   "cell_type": "code",
   "execution_count": 71,
   "id": "paperback-drill",
   "metadata": {},
   "outputs": [
    {
     "data": {
      "text/plain": [
       "(array([ 8., 13., 29., 24., 12.,  6.,  2.,  3.,  2.,  3.]),\n",
       " array([-10.04001372,  -7.24537136,  -4.45072899,  -1.65608663,\n",
       "          1.13855573,   3.9331981 ,   6.72784046,   9.52248282,\n",
       "         12.31712519,  15.11176755,  17.90640991]),\n",
       " <BarContainer object of 10 artists>)"
      ]
     },
     "execution_count": 71,
     "metadata": {},
     "output_type": "execute_result"
    },
    {
     "data": {
      "image/png": "[encoded data removed]",
      "text/plain": [
       "<Figure size 720x360 with 2 Axes>"
      ]
     },
     "metadata": {
      "needs_background": "light"
     },
     "output_type": "display_data"
    }
   ],
   "source": [
    "#residuals analysis\n",
    "residuals = y_test - y_pred\n",
    "fig, (ax1,ax2) = plt.subplots(1,2, figsize=(10,5))\n",
    "ax1.scatter(y_pred, residuals)\n",
    "ax2.hist(residuals)"
   ]
  },
  {
   "cell_type": "markdown",
   "id": "knowing-wheel",
   "metadata": {},
   "source": [
    "With a degree of 4, r-squared increased by ~0.05 and residuals appear more normal but still slightly off the mean of zero.  "
   ]
  },
  {
   "cell_type": "code",
   "execution_count": null,
   "id": "furnished-yukon",
   "metadata": {},
   "outputs": [],
   "source": []
  }
 ],
 "metadata": {
  "kernelspec": {
   "display_name": "Python 3",
   "language": "python",
   "name": "python3"
  },
  "language_info": {
   "codemirror_mode": {
    "name": "ipython",
    "version": 3
   },
   "file_extension": ".py",
   "mimetype": "text/x-python",
   "name": "python",
   "nbconvert_exporter": "python",
   "pygments_lexer": "ipython3",
   "version": "3.9.2"
  },
  "varInspector": {
   "cols": {
    "lenName": 16,
    "lenType": 16,
    "lenVar": 40
   },
   "kernels_config": {
    "python": {
     "delete_cmd_postfix": "",
     "delete_cmd_prefix": "del ",
     "library": "var_list.py",
     "varRefreshCmd": "print(var_dic_list())"
    },
    "r": {
     "delete_cmd_postfix": ") ",
     "delete_cmd_prefix": "rm(",
     "library": "var_list.r",
     "varRefreshCmd": "cat(var_dic_list()) "
    }
   },
   "types_to_exclude": [
    "module",
    "function",
    "builtin_function_or_method",
    "instance",
    "_Feature"
   ],
   "window_display": false
  }
 },
 "nbformat": 4,
 "nbformat_minor": 5
}
